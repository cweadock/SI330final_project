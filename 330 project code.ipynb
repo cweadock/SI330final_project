{
 "cells": [
  {
   "cell_type": "markdown",
   "id": "e84c5d60",
   "metadata": {},
   "source": [
    "Amanda Rudolph and Claire Weadock\n",
    "\n",
    "SI 330 Data Manipulation Final Project"
   ]
  },
  {
   "cell_type": "code",
   "execution_count": null,
   "id": "cac78a36",
   "metadata": {},
   "outputs": [],
   "source": []
  }
 ],
 "metadata": {
  "kernelspec": {
   "display_name": "Python 3",
   "language": "python",
   "name": "python3"
  },
  "language_info": {
   "codemirror_mode": {
    "name": "ipython",
    "version": 3
   },
   "file_extension": ".py",
   "mimetype": "text/x-python",
   "name": "python",
   "nbconvert_exporter": "python",
   "pygments_lexer": "ipython3",
   "version": "3.6.13"
  }
 },
 "nbformat": 4,
 "nbformat_minor": 5
}
