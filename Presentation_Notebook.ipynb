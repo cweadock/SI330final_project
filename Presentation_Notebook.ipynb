{
 "cells": [
  {
   "cell_type": "markdown",
   "id": "bdcc6d71",
   "metadata": {},
   "source": [
    "Amanda Rudolph\n",
    "\n",
    "Claire Weadock"
   ]
  },
  {
   "cell_type": "code",
   "execution_count": 60,
   "id": "00a9fa18",
   "metadata": {},
   "outputs": [],
   "source": [
    "import pandas as pd\n",
    "from pandas import read_csv\n",
    "import re\n",
    "import json\n",
    "import bz2\n",
    "import os\n",
    "import matplotlib.pyplot as plt\n",
    "%matplotlib inline\n",
    "import numpy as np\n",
    "from matplotlib import cm"
   ]
  },
  {
   "cell_type": "markdown",
   "id": "ec559343",
   "metadata": {},
   "source": [
    "## Data Gathering & Initial Steps"
   ]
  },
  {
   "cell_type": "markdown",
   "id": "2fd654e5",
   "metadata": {},
   "source": [
    "Originally, we chose to use Twitter data and Yelp data to analyze the reviews of the top 10 most reviewed restaurants. We planned to search Twitter to analyze the sentiment, as well as collect the number of tweets about that particular restuant. Based on the sentiment of the twitter reviews, we would compae the rating to the average Yelp score (star rating) and analyze whether Twitter is a good predictor of the rating of a restaruant. \n",
    "\n",
    "Gathering the Twitter data consisted of searching for tweets that contained the search terms of the top 10 most reviewed restraunts in Madison, WI. However, after reviewing this collected data the tweets did not correspond with restaurant reviews like we had hope.\n",
    "\n",
    "Although we had this setback, we chose to keep using the Yelp dataset (since we still wanted to focus on reviews) and thought it would be interesting to focus on the factors that influence high, low, and neutral revews. So, we left the Twitter dataset behind and brought in a Crime DataSet. "
   ]
  },
  {
   "cell_type": "code",
   "execution_count": null,
   "id": "29e4ed3f",
   "metadata": {},
   "outputs": [],
   "source": []
  },
  {
   "cell_type": "markdown",
   "id": "abac92d4",
   "metadata": {},
   "source": [
    "## Does the safety of an area a business is in have any relation to that restaurants review?"
   ]
  },
  {
   "cell_type": "markdown",
   "id": "06b15c04",
   "metadata": {},
   "source": [
    "**Do restaurants in \"safer\" areas have higher reviews?**"
   ]
  },
  {
   "cell_type": "markdown",
   "id": "67f2c5aa",
   "metadata": {},
   "source": [
    "-To narrow our scope, we chose to focus on restuarants and crime rates in Boston."
   ]
  },
  {
   "cell_type": "markdown",
   "id": "8e94bd26",
   "metadata": {},
   "source": [
    "## Boston Crime DataSet (CSV)"
   ]
  },
  {
   "cell_type": "markdown",
   "id": "74d679f7",
   "metadata": {},
   "source": [
    "This Boston Crime Dataset comes from the 2020 Crime Incident Reports. The dataset contains records which include a reduced set of fields focused on capturing the type of incident as well as when and where it ocurred. "
   ]
  },
  {
   "cell_type": "code",
   "execution_count": 4,
   "id": "f0d342ae",
   "metadata": {},
   "outputs": [
    {
     "name": "stderr",
     "output_type": "stream",
     "text": [
      "/opt/anaconda3/envs/py36/lib/python3.6/site-packages/IPython/core/interactiveshell.py:3072: DtypeWarning: Columns (0) have mixed types.Specify dtype option on import or set low_memory=False.\n",
      "  interactivity=interactivity, compiler=compiler, result=result)\n"
     ]
    }
   ],
   "source": [
    "data = pd.read_csv('BostonCrime.csv')"
   ]
  },
  {
   "cell_type": "markdown",
   "id": "a898946d",
   "metadata": {},
   "source": [
    "## Yelp DataSet (JSON)"
   ]
  },
  {
   "cell_type": "markdown",
   "id": "021bc289",
   "metadata": {},
   "source": [
    "The Yelp DataSet contains filed composed of one JSON-object-per-line. For this project, we used the business.json file as it contains business data including location data, attributes, star ratings, and categories."
   ]
  },
  {
   "cell_type": "code",
   "execution_count": 6,
   "id": "d98308e0",
   "metadata": {},
   "outputs": [],
   "source": [
    "#CLAIRE NEEDS TO DO THIS BC JSON FILE\n",
    "yelp = pd.read_csv('yelp_boston_businesses.csv')"
   ]
  },
  {
   "cell_type": "markdown",
   "id": "98f9f5e7",
   "metadata": {},
   "source": [
    "## **Data Cleaning**"
   ]
  },
  {
   "cell_type": "markdown",
   "id": "55ebc690",
   "metadata": {},
   "source": [
    "- Read in Yelp Business JSON line by line and clean it to only contain the data from businesses in Boston, MA. Convert the JSON file into a csv, and then into a pandas dataframe. Then unnneeded columns were removed from the dataframe.\n"
   ]
  },
  {
   "cell_type": "code",
   "execution_count": 7,
   "id": "c945a52b",
   "metadata": {},
   "outputs": [
    {
     "ename": "KeyError",
     "evalue": "\"['Location'] not in index\"",
     "output_type": "error",
     "traceback": [
      "\u001b[0;31m---------------------------------------------------------------------------\u001b[0m",
      "\u001b[0;31mKeyError\u001b[0m                                  Traceback (most recent call last)",
      "\u001b[0;32m<ipython-input-7-9ca2e0466154>\u001b[0m in \u001b[0;36m<module>\u001b[0;34m\u001b[0m\n\u001b[0;32m----> 1\u001b[0;31m \u001b[0myelp\u001b[0m \u001b[0;34m=\u001b[0m \u001b[0myelp\u001b[0m\u001b[0;34m[\u001b[0m\u001b[0;34m[\u001b[0m\u001b[0;34m'name'\u001b[0m\u001b[0;34m,\u001b[0m \u001b[0;34m'address'\u001b[0m\u001b[0;34m,\u001b[0m \u001b[0;34m'city'\u001b[0m\u001b[0;34m,\u001b[0m \u001b[0;34m'state'\u001b[0m\u001b[0;34m,\u001b[0m \u001b[0;34m'latitude'\u001b[0m\u001b[0;34m,\u001b[0m \u001b[0;34m'longitude'\u001b[0m\u001b[0;34m,\u001b[0m \u001b[0;34m'stars'\u001b[0m\u001b[0;34m,\u001b[0m \u001b[0;34m'review_count'\u001b[0m\u001b[0;34m,\u001b[0m \u001b[0;34m'categories'\u001b[0m\u001b[0;34m,\u001b[0m \u001b[0;34m'Location'\u001b[0m\u001b[0;34m]\u001b[0m\u001b[0;34m]\u001b[0m\u001b[0;34m\u001b[0m\u001b[0;34m\u001b[0m\u001b[0m\n\u001b[0m",
      "\u001b[0;32m/opt/anaconda3/envs/py36/lib/python3.6/site-packages/pandas/core/frame.py\u001b[0m in \u001b[0;36m__getitem__\u001b[0;34m(self, key)\u001b[0m\n\u001b[1;32m   2910\u001b[0m             \u001b[0;32mif\u001b[0m \u001b[0mis_iterator\u001b[0m\u001b[0;34m(\u001b[0m\u001b[0mkey\u001b[0m\u001b[0;34m)\u001b[0m\u001b[0;34m:\u001b[0m\u001b[0;34m\u001b[0m\u001b[0;34m\u001b[0m\u001b[0m\n\u001b[1;32m   2911\u001b[0m                 \u001b[0mkey\u001b[0m \u001b[0;34m=\u001b[0m \u001b[0mlist\u001b[0m\u001b[0;34m(\u001b[0m\u001b[0mkey\u001b[0m\u001b[0;34m)\u001b[0m\u001b[0;34m\u001b[0m\u001b[0;34m\u001b[0m\u001b[0m\n\u001b[0;32m-> 2912\u001b[0;31m             \u001b[0mindexer\u001b[0m \u001b[0;34m=\u001b[0m \u001b[0mself\u001b[0m\u001b[0;34m.\u001b[0m\u001b[0mloc\u001b[0m\u001b[0;34m.\u001b[0m\u001b[0m_get_listlike_indexer\u001b[0m\u001b[0;34m(\u001b[0m\u001b[0mkey\u001b[0m\u001b[0;34m,\u001b[0m \u001b[0maxis\u001b[0m\u001b[0;34m=\u001b[0m\u001b[0;36m1\u001b[0m\u001b[0;34m,\u001b[0m \u001b[0mraise_missing\u001b[0m\u001b[0;34m=\u001b[0m\u001b[0;32mTrue\u001b[0m\u001b[0;34m)\u001b[0m\u001b[0;34m[\u001b[0m\u001b[0;36m1\u001b[0m\u001b[0;34m]\u001b[0m\u001b[0;34m\u001b[0m\u001b[0;34m\u001b[0m\u001b[0m\n\u001b[0m\u001b[1;32m   2913\u001b[0m \u001b[0;34m\u001b[0m\u001b[0m\n\u001b[1;32m   2914\u001b[0m         \u001b[0;31m# take() does not accept boolean indexers\u001b[0m\u001b[0;34m\u001b[0m\u001b[0;34m\u001b[0m\u001b[0;34m\u001b[0m\u001b[0m\n",
      "\u001b[0;32m/opt/anaconda3/envs/py36/lib/python3.6/site-packages/pandas/core/indexing.py\u001b[0m in \u001b[0;36m_get_listlike_indexer\u001b[0;34m(self, key, axis, raise_missing)\u001b[0m\n\u001b[1;32m   1252\u001b[0m             \u001b[0mkeyarr\u001b[0m\u001b[0;34m,\u001b[0m \u001b[0mindexer\u001b[0m\u001b[0;34m,\u001b[0m \u001b[0mnew_indexer\u001b[0m \u001b[0;34m=\u001b[0m \u001b[0max\u001b[0m\u001b[0;34m.\u001b[0m\u001b[0m_reindex_non_unique\u001b[0m\u001b[0;34m(\u001b[0m\u001b[0mkeyarr\u001b[0m\u001b[0;34m)\u001b[0m\u001b[0;34m\u001b[0m\u001b[0;34m\u001b[0m\u001b[0m\n\u001b[1;32m   1253\u001b[0m \u001b[0;34m\u001b[0m\u001b[0m\n\u001b[0;32m-> 1254\u001b[0;31m         \u001b[0mself\u001b[0m\u001b[0;34m.\u001b[0m\u001b[0m_validate_read_indexer\u001b[0m\u001b[0;34m(\u001b[0m\u001b[0mkeyarr\u001b[0m\u001b[0;34m,\u001b[0m \u001b[0mindexer\u001b[0m\u001b[0;34m,\u001b[0m \u001b[0maxis\u001b[0m\u001b[0;34m,\u001b[0m \u001b[0mraise_missing\u001b[0m\u001b[0;34m=\u001b[0m\u001b[0mraise_missing\u001b[0m\u001b[0;34m)\u001b[0m\u001b[0;34m\u001b[0m\u001b[0;34m\u001b[0m\u001b[0m\n\u001b[0m\u001b[1;32m   1255\u001b[0m         \u001b[0;32mreturn\u001b[0m \u001b[0mkeyarr\u001b[0m\u001b[0;34m,\u001b[0m \u001b[0mindexer\u001b[0m\u001b[0;34m\u001b[0m\u001b[0;34m\u001b[0m\u001b[0m\n\u001b[1;32m   1256\u001b[0m \u001b[0;34m\u001b[0m\u001b[0m\n",
      "\u001b[0;32m/opt/anaconda3/envs/py36/lib/python3.6/site-packages/pandas/core/indexing.py\u001b[0m in \u001b[0;36m_validate_read_indexer\u001b[0;34m(self, key, indexer, axis, raise_missing)\u001b[0m\n\u001b[1;32m   1302\u001b[0m             \u001b[0;32mif\u001b[0m \u001b[0mraise_missing\u001b[0m\u001b[0;34m:\u001b[0m\u001b[0;34m\u001b[0m\u001b[0;34m\u001b[0m\u001b[0m\n\u001b[1;32m   1303\u001b[0m                 \u001b[0mnot_found\u001b[0m \u001b[0;34m=\u001b[0m \u001b[0mlist\u001b[0m\u001b[0;34m(\u001b[0m\u001b[0mset\u001b[0m\u001b[0;34m(\u001b[0m\u001b[0mkey\u001b[0m\u001b[0;34m)\u001b[0m \u001b[0;34m-\u001b[0m \u001b[0mset\u001b[0m\u001b[0;34m(\u001b[0m\u001b[0max\u001b[0m\u001b[0;34m)\u001b[0m\u001b[0;34m)\u001b[0m\u001b[0;34m\u001b[0m\u001b[0;34m\u001b[0m\u001b[0m\n\u001b[0;32m-> 1304\u001b[0;31m                 \u001b[0;32mraise\u001b[0m \u001b[0mKeyError\u001b[0m\u001b[0;34m(\u001b[0m\u001b[0;34mf\"{not_found} not in index\"\u001b[0m\u001b[0;34m)\u001b[0m\u001b[0;34m\u001b[0m\u001b[0;34m\u001b[0m\u001b[0m\n\u001b[0m\u001b[1;32m   1305\u001b[0m \u001b[0;34m\u001b[0m\u001b[0m\n\u001b[1;32m   1306\u001b[0m             \u001b[0;31m# we skip the warning on Categorical\u001b[0m\u001b[0;34m\u001b[0m\u001b[0;34m\u001b[0m\u001b[0;34m\u001b[0m\u001b[0m\n",
      "\u001b[0;31mKeyError\u001b[0m: \"['Location'] not in index\""
     ]
    }
   ],
   "source": [
    "yelp = yelp[['name', 'address', 'city', 'state', 'latitude', 'longitude', 'stars', 'review_count', 'categories', 'Location']]"
   ]
  },
  {
   "cell_type": "markdown",
   "id": "74310cbb",
   "metadata": {},
   "source": [
    "- Read in Boston Crime DataSet by converting CSV file to pandas dataframe and remove unneeded columns."
   ]
  },
  {
   "cell_type": "code",
   "execution_count": 8,
   "id": "b7d68823",
   "metadata": {},
   "outputs": [
    {
     "data": {
      "text/html": [
       "<div>\n",
       "<style scoped>\n",
       "    .dataframe tbody tr th:only-of-type {\n",
       "        vertical-align: middle;\n",
       "    }\n",
       "\n",
       "    .dataframe tbody tr th {\n",
       "        vertical-align: top;\n",
       "    }\n",
       "\n",
       "    .dataframe thead th {\n",
       "        text-align: right;\n",
       "    }\n",
       "</style>\n",
       "<table border=\"1\" class=\"dataframe\">\n",
       "  <thead>\n",
       "    <tr style=\"text-align: right;\">\n",
       "      <th></th>\n",
       "      <th>OFFENSE_DESCRIPTION</th>\n",
       "      <th>YEAR</th>\n",
       "      <th>MONTH</th>\n",
       "      <th>DAY_OF_WEEK</th>\n",
       "      <th>Lat</th>\n",
       "      <th>Long</th>\n",
       "      <th>Location</th>\n",
       "    </tr>\n",
       "  </thead>\n",
       "  <tbody>\n",
       "    <tr>\n",
       "      <th>0</th>\n",
       "      <td>INVESTIGATE PERSON</td>\n",
       "      <td>2020</td>\n",
       "      <td>2</td>\n",
       "      <td>Thursday</td>\n",
       "      <td>42.333679</td>\n",
       "      <td>-71.091878</td>\n",
       "      <td>(42.3336792181085, -71.0918775461846)</td>\n",
       "    </tr>\n",
       "    <tr>\n",
       "      <th>1</th>\n",
       "      <td>INVESTIGATE PERSON</td>\n",
       "      <td>2020</td>\n",
       "      <td>2</td>\n",
       "      <td>Friday</td>\n",
       "      <td>42.333679</td>\n",
       "      <td>-71.091878</td>\n",
       "      <td>(42.3336792181085, -71.0918775461846)</td>\n",
       "    </tr>\n",
       "    <tr>\n",
       "      <th>2</th>\n",
       "      <td>FRAUD - CREDIT CARD / ATM FRAUD</td>\n",
       "      <td>2020</td>\n",
       "      <td>4</td>\n",
       "      <td>Friday</td>\n",
       "      <td>42.339542</td>\n",
       "      <td>-71.069409</td>\n",
       "      <td>(42.3395419898301, -71.0694087696754)</td>\n",
       "    </tr>\n",
       "    <tr>\n",
       "      <th>3</th>\n",
       "      <td>FRAUD - WELFARE</td>\n",
       "      <td>2020</td>\n",
       "      <td>5</td>\n",
       "      <td>Friday</td>\n",
       "      <td>42.370818</td>\n",
       "      <td>-71.039291</td>\n",
       "      <td>(42.3708180467024, -71.0392907813515)</td>\n",
       "    </tr>\n",
       "    <tr>\n",
       "      <th>4</th>\n",
       "      <td>HARASSMENT/ CRIMINAL HARASSMENT</td>\n",
       "      <td>2020</td>\n",
       "      <td>9</td>\n",
       "      <td>Monday</td>\n",
       "      <td>42.361839</td>\n",
       "      <td>-71.059765</td>\n",
       "      <td>(42.3618385665647, -71.0597648909416)</td>\n",
       "    </tr>\n",
       "    <tr>\n",
       "      <th>...</th>\n",
       "      <td>...</td>\n",
       "      <td>...</td>\n",
       "      <td>...</td>\n",
       "      <td>...</td>\n",
       "      <td>...</td>\n",
       "      <td>...</td>\n",
       "      <td>...</td>\n",
       "    </tr>\n",
       "    <tr>\n",
       "      <th>70889</th>\n",
       "      <td>INVESTIGATE PROPERTY</td>\n",
       "      <td>2020</td>\n",
       "      <td>9</td>\n",
       "      <td>Tuesday</td>\n",
       "      <td>42.374427</td>\n",
       "      <td>-71.035279</td>\n",
       "      <td>(42.3744269722053, -71.0352787630199)</td>\n",
       "    </tr>\n",
       "    <tr>\n",
       "      <th>70890</th>\n",
       "      <td>FRAUD - IMPERSONATION</td>\n",
       "      <td>2020</td>\n",
       "      <td>8</td>\n",
       "      <td>Friday</td>\n",
       "      <td>42.256216</td>\n",
       "      <td>-71.124019</td>\n",
       "      <td>(42.2562159204022, -71.1240194732902)</td>\n",
       "    </tr>\n",
       "    <tr>\n",
       "      <th>70891</th>\n",
       "      <td>WEAPON VIOLATION - CARRY/ POSSESSING/ SALE/ TR...</td>\n",
       "      <td>2020</td>\n",
       "      <td>7</td>\n",
       "      <td>Thursday</td>\n",
       "      <td>42.305761</td>\n",
       "      <td>-71.083772</td>\n",
       "      <td>(42.3057609263196, -71.0837715727385)</td>\n",
       "    </tr>\n",
       "    <tr>\n",
       "      <th>70892</th>\n",
       "      <td>WEAPON VIOLATION - CARRY/ POSSESSING/ SALE/ TR...</td>\n",
       "      <td>2020</td>\n",
       "      <td>6</td>\n",
       "      <td>Wednesday</td>\n",
       "      <td>42.323808</td>\n",
       "      <td>-71.089150</td>\n",
       "      <td>(42.3238077563779, -71.0891502345332)</td>\n",
       "    </tr>\n",
       "    <tr>\n",
       "      <th>70893</th>\n",
       "      <td>BURGLARY - COMMERICAL</td>\n",
       "      <td>2020</td>\n",
       "      <td>5</td>\n",
       "      <td>Sunday</td>\n",
       "      <td>42.283700</td>\n",
       "      <td>-71.047761</td>\n",
       "      <td>(42.2837003080534, -71.0477614298657)</td>\n",
       "    </tr>\n",
       "  </tbody>\n",
       "</table>\n",
       "<p>70894 rows × 7 columns</p>\n",
       "</div>"
      ],
      "text/plain": [
       "                                     OFFENSE_DESCRIPTION  YEAR  MONTH  \\\n",
       "0                                     INVESTIGATE PERSON  2020      2   \n",
       "1                                     INVESTIGATE PERSON  2020      2   \n",
       "2                        FRAUD - CREDIT CARD / ATM FRAUD  2020      4   \n",
       "3                                        FRAUD - WELFARE  2020      5   \n",
       "4                        HARASSMENT/ CRIMINAL HARASSMENT  2020      9   \n",
       "...                                                  ...   ...    ...   \n",
       "70889                               INVESTIGATE PROPERTY  2020      9   \n",
       "70890                              FRAUD - IMPERSONATION  2020      8   \n",
       "70891  WEAPON VIOLATION - CARRY/ POSSESSING/ SALE/ TR...  2020      7   \n",
       "70892  WEAPON VIOLATION - CARRY/ POSSESSING/ SALE/ TR...  2020      6   \n",
       "70893                              BURGLARY - COMMERICAL  2020      5   \n",
       "\n",
       "      DAY_OF_WEEK        Lat       Long                               Location  \n",
       "0        Thursday  42.333679 -71.091878  (42.3336792181085, -71.0918775461846)  \n",
       "1          Friday  42.333679 -71.091878  (42.3336792181085, -71.0918775461846)  \n",
       "2          Friday  42.339542 -71.069409  (42.3395419898301, -71.0694087696754)  \n",
       "3          Friday  42.370818 -71.039291  (42.3708180467024, -71.0392907813515)  \n",
       "4          Monday  42.361839 -71.059765  (42.3618385665647, -71.0597648909416)  \n",
       "...           ...        ...        ...                                    ...  \n",
       "70889     Tuesday  42.374427 -71.035279  (42.3744269722053, -71.0352787630199)  \n",
       "70890      Friday  42.256216 -71.124019  (42.2562159204022, -71.1240194732902)  \n",
       "70891    Thursday  42.305761 -71.083772  (42.3057609263196, -71.0837715727385)  \n",
       "70892   Wednesday  42.323808 -71.089150  (42.3238077563779, -71.0891502345332)  \n",
       "70893      Sunday  42.283700 -71.047761  (42.2837003080534, -71.0477614298657)  \n",
       "\n",
       "[70894 rows x 7 columns]"
      ]
     },
     "execution_count": 8,
     "metadata": {},
     "output_type": "execute_result"
    }
   ],
   "source": [
    "df_crime_filtered = data[['OFFENSE_DESCRIPTION', 'YEAR', 'MONTH', 'DAY_OF_WEEK', 'Lat', 'Long', 'Location']]\n",
    "df_crime_filtered"
   ]
  },
  {
   "cell_type": "markdown",
   "id": "90bf7f6d",
   "metadata": {},
   "source": [
    "## Data Manipulation"
   ]
  },
  {
   "cell_type": "markdown",
   "id": "03aa0550",
   "metadata": {},
   "source": [
    "- Although we cleaned the Yelp dataset to contain specifically business in Boston and chose the corresponsing Boston Crime DataSet, we still wanted to specify areas within Boston to find the crime rates of areas that the restaurants in our Yelp dataset were in. \n",
    "    - One way to do this was by cleaning the Boston Crime Data to contain a 'Postal Code' column instead of lattitude on longtitude columns. This way, we could merge with Crime data with the Yelp data (which has a postal code column) and group by postal code to compare crime rates of different areas of boston and the ratings of those corresponding restaurants."
   ]
  },
  {
   "cell_type": "markdown",
   "id": "3f457524",
   "metadata": {},
   "source": [
    "### <font color=\"blue\"> Function to find Postal Code"
   ]
  },
  {
   "cell_type": "markdown",
   "id": "7ce1b926",
   "metadata": {},
   "source": [
    "Insert all the work that was done to get the zipcode here!!"
   ]
  },
  {
   "cell_type": "markdown",
   "id": "6c758d9c",
   "metadata": {},
   "source": [
    "### <font color=\"blue\"> Determining areas by Coordinate\n",
    "After trying to get the postal code from the lattitude and longitude data and not succeeding, we decided to take a different approach to narrowing down areas of Boston and groupby coordinate pair. \n",
    "    \n",
    " - Since coordinates are so specific, we used Regular Expressions to shorten them to only 3 decimals so that it would be easier to group by coordinate pairs and come up with area groups"
   ]
  },
  {
   "cell_type": "code",
   "execution_count": 9,
   "id": "9a84219b",
   "metadata": {},
   "outputs": [
    {
     "name": "stderr",
     "output_type": "stream",
     "text": [
      "/opt/anaconda3/envs/py36/lib/python3.6/site-packages/ipykernel_launcher.py:18: SettingWithCopyWarning: \n",
      "A value is trying to be set on a copy of a slice from a DataFrame.\n",
      "Try using .loc[row_indexer,col_indexer] = value instead\n",
      "\n",
      "See the caveats in the documentation: https://pandas.pydata.org/pandas-docs/stable/user_guide/indexing.html#returning-a-view-versus-a-copy\n",
      "/opt/anaconda3/envs/py36/lib/python3.6/site-packages/ipykernel_launcher.py:19: SettingWithCopyWarning: \n",
      "A value is trying to be set on a copy of a slice from a DataFrame.\n",
      "Try using .loc[row_indexer,col_indexer] = value instead\n",
      "\n",
      "See the caveats in the documentation: https://pandas.pydata.org/pandas-docs/stable/user_guide/indexing.html#returning-a-view-versus-a-copy\n"
     ]
    }
   ],
   "source": [
    "def get_lat(series):\n",
    "    pattern = r'(-?\\d{2}.\\d{3})'\n",
    "    lat = re.match(pattern, str(series))\n",
    "    if lat is not None:\n",
    "        return lat.group(0)\n",
    "    else:\n",
    "        return str(series)[0:6]\n",
    "\n",
    "def get_long(series):\n",
    "    pattern = r'(-?\\d{2}.\\d{3})'\n",
    "    long = re.match(pattern, str(series))\n",
    "    if long is not None:\n",
    "        return long.group(0)\n",
    "    else:\n",
    "        return str(series)[0:6]\n",
    "\n",
    "#Replacing the 'Lat' and 'Long' values within Boston Crime df with their new, shortened coordinates.\n",
    "df_crime_filtered['Lat'] = df_crime_filtered['Lat'].map(get_lat)\n",
    "df_crime_filtered['Long'] = df_crime_filtered['Long'].map(get_long)"
   ]
  },
  {
   "cell_type": "code",
   "execution_count": 10,
   "id": "979dca3f",
   "metadata": {},
   "outputs": [
    {
     "name": "stderr",
     "output_type": "stream",
     "text": [
      "/opt/anaconda3/envs/py36/lib/python3.6/site-packages/ipykernel_launcher.py:5: SettingWithCopyWarning: \n",
      "A value is trying to be set on a copy of a slice from a DataFrame.\n",
      "Try using .loc[row_indexer,col_indexer] = value instead\n",
      "\n",
      "See the caveats in the documentation: https://pandas.pydata.org/pandas-docs/stable/user_guide/indexing.html#returning-a-view-versus-a-copy\n",
      "  \"\"\"\n"
     ]
    }
   ],
   "source": [
    "#Replacing the location column of the DataFrame to hold new coordinate pairs.\n",
    "def replace_location(df):\n",
    "    return (df['Lat'], df['Long'])\n",
    "\n",
    "df_crime_filtered['Location'] = df_crime_filtered.apply(replace_location, axis=1)"
   ]
  },
  {
   "cell_type": "code",
   "execution_count": 11,
   "id": "d4a26fde",
   "metadata": {},
   "outputs": [],
   "source": [
    "#Now cleaning the Yelp datset using the get_lat and get_long functions\n",
    "yelp['latitude'] = yelp['latitude'].apply(get_lat)\n",
    "yelp['longitude'] = yelp['longitude'].apply(get_long)\n",
    "\n",
    "def replace_location_yelp(yelp):\n",
    "    return (yelp['latitude'], yelp['longitude'])\n",
    "\n",
    "yelp['Location'] = yelp.apply(replace_location_yelp, axis=1)"
   ]
  },
  {
   "cell_type": "markdown",
   "id": "035bd071",
   "metadata": {},
   "source": [
    "### <font color=\"blue\"> Group Boston Crime DF by location"
   ]
  },
  {
   "cell_type": "code",
   "execution_count": 12,
   "id": "d3e09c5b",
   "metadata": {},
   "outputs": [
    {
     "data": {
      "text/html": [
       "<div>\n",
       "<style scoped>\n",
       "    .dataframe tbody tr th:only-of-type {\n",
       "        vertical-align: middle;\n",
       "    }\n",
       "\n",
       "    .dataframe tbody tr th {\n",
       "        vertical-align: top;\n",
       "    }\n",
       "\n",
       "    .dataframe thead th {\n",
       "        text-align: right;\n",
       "    }\n",
       "</style>\n",
       "<table border=\"1\" class=\"dataframe\">\n",
       "  <thead>\n",
       "    <tr style=\"text-align: right;\">\n",
       "      <th></th>\n",
       "      <th>Location</th>\n",
       "      <th>Crimes in Business Area</th>\n",
       "    </tr>\n",
       "  </thead>\n",
       "  <tbody>\n",
       "    <tr>\n",
       "      <th>0</th>\n",
       "      <td>(0.0, 0.0)</td>\n",
       "      <td>1747</td>\n",
       "    </tr>\n",
       "    <tr>\n",
       "      <th>1</th>\n",
       "      <td>(1.3272, 5.2496)</td>\n",
       "      <td>1</td>\n",
       "    </tr>\n",
       "    <tr>\n",
       "      <th>2</th>\n",
       "      <td>(42.232, -71.130)</td>\n",
       "      <td>1</td>\n",
       "    </tr>\n",
       "    <tr>\n",
       "      <th>3</th>\n",
       "      <td>(42.232, -71.131)</td>\n",
       "      <td>2</td>\n",
       "    </tr>\n",
       "    <tr>\n",
       "      <th>4</th>\n",
       "      <td>(42.233, -71.128)</td>\n",
       "      <td>8</td>\n",
       "    </tr>\n",
       "    <tr>\n",
       "      <th>...</th>\n",
       "      <td>...</td>\n",
       "      <td>...</td>\n",
       "    </tr>\n",
       "    <tr>\n",
       "      <th>6408</th>\n",
       "      <td>(42.393, -71.010)</td>\n",
       "      <td>3</td>\n",
       "    </tr>\n",
       "    <tr>\n",
       "      <th>6409</th>\n",
       "      <td>(42.393, -71.011)</td>\n",
       "      <td>30</td>\n",
       "    </tr>\n",
       "    <tr>\n",
       "      <th>6410</th>\n",
       "      <td>(42.394, -71.010)</td>\n",
       "      <td>1</td>\n",
       "    </tr>\n",
       "    <tr>\n",
       "      <th>6411</th>\n",
       "      <td>(42.394, -71.067)</td>\n",
       "      <td>12</td>\n",
       "    </tr>\n",
       "    <tr>\n",
       "      <th>6412</th>\n",
       "      <td>(42.395, -71.010)</td>\n",
       "      <td>6</td>\n",
       "    </tr>\n",
       "  </tbody>\n",
       "</table>\n",
       "<p>6413 rows × 2 columns</p>\n",
       "</div>"
      ],
      "text/plain": [
       "               Location  Crimes in Business Area\n",
       "0            (0.0, 0.0)                     1747\n",
       "1      (1.3272, 5.2496)                        1\n",
       "2     (42.232, -71.130)                        1\n",
       "3     (42.232, -71.131)                        2\n",
       "4     (42.233, -71.128)                        8\n",
       "...                 ...                      ...\n",
       "6408  (42.393, -71.010)                        3\n",
       "6409  (42.393, -71.011)                       30\n",
       "6410  (42.394, -71.010)                        1\n",
       "6411  (42.394, -71.067)                       12\n",
       "6412  (42.395, -71.010)                        6\n",
       "\n",
       "[6413 rows x 2 columns]"
      ]
     },
     "execution_count": 12,
     "metadata": {},
     "output_type": "execute_result"
    }
   ],
   "source": [
    "crimes_by_location = df_crime_filtered.groupby('Location').size().reset_index(name=\"Crimes in Business Area\")\n",
    "crimes_by_location = pd.DataFrame(crimes_by_location)\n",
    "crimes_by_location"
   ]
  },
  {
   "cell_type": "markdown",
   "id": "d81c792e",
   "metadata": {},
   "source": [
    "### <font color=\"blue\"> Merging with Yelp dataframe"
   ]
  },
  {
   "cell_type": "code",
   "execution_count": 13,
   "id": "c497bea9",
   "metadata": {},
   "outputs": [],
   "source": [
    "yelp = yelp[['name', 'address', 'city', 'state', 'latitude', 'longitude', 'stars', 'review_count', 'categories', 'Location']]"
   ]
  },
  {
   "cell_type": "code",
   "execution_count": 26,
   "id": "e0a43695",
   "metadata": {},
   "outputs": [
    {
     "data": {
      "text/html": [
       "<div>\n",
       "<style scoped>\n",
       "    .dataframe tbody tr th:only-of-type {\n",
       "        vertical-align: middle;\n",
       "    }\n",
       "\n",
       "    .dataframe tbody tr th {\n",
       "        vertical-align: top;\n",
       "    }\n",
       "\n",
       "    .dataframe thead th {\n",
       "        text-align: right;\n",
       "    }\n",
       "</style>\n",
       "<table border=\"1\" class=\"dataframe\">\n",
       "  <thead>\n",
       "    <tr style=\"text-align: right;\">\n",
       "      <th></th>\n",
       "      <th>name</th>\n",
       "      <th>address</th>\n",
       "      <th>city</th>\n",
       "      <th>state</th>\n",
       "      <th>latitude</th>\n",
       "      <th>longitude</th>\n",
       "      <th>stars</th>\n",
       "      <th>review_count</th>\n",
       "      <th>categories</th>\n",
       "      <th>Location</th>\n",
       "      <th>Crimes in Business Area</th>\n",
       "    </tr>\n",
       "  </thead>\n",
       "  <tbody>\n",
       "    <tr>\n",
       "      <th>0</th>\n",
       "      <td>Longwood Galleria</td>\n",
       "      <td>340-350 Longwood Ave</td>\n",
       "      <td>Boston</td>\n",
       "      <td>MA</td>\n",
       "      <td>42.338</td>\n",
       "      <td>-71.106</td>\n",
       "      <td>2.5</td>\n",
       "      <td>24.0</td>\n",
       "      <td>Restaurants, Shopping, Shopping Centers</td>\n",
       "      <td>(42.338, -71.106)</td>\n",
       "      <td>15.0</td>\n",
       "    </tr>\n",
       "    <tr>\n",
       "      <th>1</th>\n",
       "      <td>Longwood Barbershop</td>\n",
       "      <td>342 Longwood Ave</td>\n",
       "      <td>Boston</td>\n",
       "      <td>MA</td>\n",
       "      <td>42.338</td>\n",
       "      <td>-71.106</td>\n",
       "      <td>4.0</td>\n",
       "      <td>37.0</td>\n",
       "      <td>Barbers, Beauty &amp; Spas</td>\n",
       "      <td>(42.338, -71.106)</td>\n",
       "      <td>15.0</td>\n",
       "    </tr>\n",
       "    <tr>\n",
       "      <th>2</th>\n",
       "      <td>Sakura</td>\n",
       "      <td>350 Longwood Ave</td>\n",
       "      <td>Boston</td>\n",
       "      <td>MA</td>\n",
       "      <td>42.338</td>\n",
       "      <td>-71.106</td>\n",
       "      <td>3.0</td>\n",
       "      <td>9.0</td>\n",
       "      <td>Fast Food, Japanese, Restaurants</td>\n",
       "      <td>(42.338, -71.106)</td>\n",
       "      <td>15.0</td>\n",
       "    </tr>\n",
       "    <tr>\n",
       "      <th>3</th>\n",
       "      <td>Noodles King</td>\n",
       "      <td>400 Brookline Ave</td>\n",
       "      <td>Boston</td>\n",
       "      <td>MA</td>\n",
       "      <td>42.338</td>\n",
       "      <td>-71.106</td>\n",
       "      <td>4.0</td>\n",
       "      <td>36.0</td>\n",
       "      <td>Chinese, Food Court, Restaurants, Noodles</td>\n",
       "      <td>(42.338, -71.106)</td>\n",
       "      <td>15.0</td>\n",
       "    </tr>\n",
       "    <tr>\n",
       "      <th>4</th>\n",
       "      <td>Dairy Queen</td>\n",
       "      <td>350 Longwood Ave</td>\n",
       "      <td>Boston</td>\n",
       "      <td>MA</td>\n",
       "      <td>42.338</td>\n",
       "      <td>-71.106</td>\n",
       "      <td>3.0</td>\n",
       "      <td>6.0</td>\n",
       "      <td>Food, Ice Cream &amp; Frozen Yogurt</td>\n",
       "      <td>(42.338, -71.106)</td>\n",
       "      <td>15.0</td>\n",
       "    </tr>\n",
       "  </tbody>\n",
       "</table>\n",
       "</div>"
      ],
      "text/plain": [
       "                  name               address    city state latitude longitude  \\\n",
       "0    Longwood Galleria  340-350 Longwood Ave  Boston    MA   42.338   -71.106   \n",
       "1  Longwood Barbershop      342 Longwood Ave  Boston    MA   42.338   -71.106   \n",
       "2               Sakura      350 Longwood Ave  Boston    MA   42.338   -71.106   \n",
       "3         Noodles King     400 Brookline Ave  Boston    MA   42.338   -71.106   \n",
       "4          Dairy Queen      350 Longwood Ave  Boston    MA   42.338   -71.106   \n",
       "\n",
       "   stars  review_count                                 categories  \\\n",
       "0    2.5          24.0    Restaurants, Shopping, Shopping Centers   \n",
       "1    4.0          37.0                     Barbers, Beauty & Spas   \n",
       "2    3.0           9.0           Fast Food, Japanese, Restaurants   \n",
       "3    4.0          36.0  Chinese, Food Court, Restaurants, Noodles   \n",
       "4    3.0           6.0            Food, Ice Cream & Frozen Yogurt   \n",
       "\n",
       "            Location  Crimes in Business Area  \n",
       "0  (42.338, -71.106)                     15.0  \n",
       "1  (42.338, -71.106)                     15.0  \n",
       "2  (42.338, -71.106)                     15.0  \n",
       "3  (42.338, -71.106)                     15.0  \n",
       "4  (42.338, -71.106)                     15.0  "
      ]
     },
     "execution_count": 26,
     "metadata": {},
     "output_type": "execute_result"
    }
   ],
   "source": [
    "merging_crimecount_and_yelp = yelp.merge(crimes_by_location, how=\"outer\")\n",
    "merging_crimecount_and_yelp = merging_crimecount_and_yelp.dropna()\n",
    "merging_crimecount_and_yelp.head()"
   ]
  },
  {
   "cell_type": "markdown",
   "id": "254e3732",
   "metadata": {},
   "source": [
    "### <font color=\"blue\"> Group Merged DataFrame by Location"
   ]
  },
  {
   "cell_type": "markdown",
   "id": "6e867c91",
   "metadata": {},
   "source": [
    "This merged dataframe shows the average star ratings as well as the average amount of reviews given for resturants in these location areas."
   ]
  },
  {
   "cell_type": "code",
   "execution_count": 31,
   "id": "9e08459f",
   "metadata": {},
   "outputs": [
    {
     "data": {
      "text/html": [
       "<div>\n",
       "<style scoped>\n",
       "    .dataframe tbody tr th:only-of-type {\n",
       "        vertical-align: middle;\n",
       "    }\n",
       "\n",
       "    .dataframe tbody tr th {\n",
       "        vertical-align: top;\n",
       "    }\n",
       "\n",
       "    .dataframe thead th {\n",
       "        text-align: right;\n",
       "    }\n",
       "</style>\n",
       "<table border=\"1\" class=\"dataframe\">\n",
       "  <thead>\n",
       "    <tr style=\"text-align: right;\">\n",
       "      <th></th>\n",
       "      <th>stars</th>\n",
       "      <th>review_count</th>\n",
       "    </tr>\n",
       "    <tr>\n",
       "      <th>Location</th>\n",
       "      <th></th>\n",
       "      <th></th>\n",
       "    </tr>\n",
       "  </thead>\n",
       "  <tbody>\n",
       "    <tr>\n",
       "      <th>(42.239, -71.138)</th>\n",
       "      <td>5.00</td>\n",
       "      <td>11.0</td>\n",
       "    </tr>\n",
       "    <tr>\n",
       "      <th>(42.244, -71.132)</th>\n",
       "      <td>4.50</td>\n",
       "      <td>13.0</td>\n",
       "    </tr>\n",
       "    <tr>\n",
       "      <th>(42.248, -71.131)</th>\n",
       "      <td>4.50</td>\n",
       "      <td>25.0</td>\n",
       "    </tr>\n",
       "    <tr>\n",
       "      <th>(42.251, -71.128)</th>\n",
       "      <td>5.00</td>\n",
       "      <td>6.0</td>\n",
       "    </tr>\n",
       "    <tr>\n",
       "      <th>(42.251, -71.130)</th>\n",
       "      <td>4.25</td>\n",
       "      <td>19.5</td>\n",
       "    </tr>\n",
       "    <tr>\n",
       "      <th>...</th>\n",
       "      <td>...</td>\n",
       "      <td>...</td>\n",
       "    </tr>\n",
       "    <tr>\n",
       "      <th>(42.390, -71.005)</th>\n",
       "      <td>5.00</td>\n",
       "      <td>20.0</td>\n",
       "    </tr>\n",
       "    <tr>\n",
       "      <th>(42.391, -71.012)</th>\n",
       "      <td>2.50</td>\n",
       "      <td>7.0</td>\n",
       "    </tr>\n",
       "    <tr>\n",
       "      <th>(42.391, -71.013)</th>\n",
       "      <td>3.50</td>\n",
       "      <td>11.0</td>\n",
       "    </tr>\n",
       "    <tr>\n",
       "      <th>(42.393, -71.010)</th>\n",
       "      <td>1.50</td>\n",
       "      <td>50.0</td>\n",
       "    </tr>\n",
       "    <tr>\n",
       "      <th>(42.394, -71.010)</th>\n",
       "      <td>5.00</td>\n",
       "      <td>7.0</td>\n",
       "    </tr>\n",
       "  </tbody>\n",
       "</table>\n",
       "<p>1331 rows × 2 columns</p>\n",
       "</div>"
      ],
      "text/plain": [
       "                   stars  review_count\n",
       "Location                              \n",
       "(42.239, -71.138)   5.00          11.0\n",
       "(42.244, -71.132)   4.50          13.0\n",
       "(42.248, -71.131)   4.50          25.0\n",
       "(42.251, -71.128)   5.00           6.0\n",
       "(42.251, -71.130)   4.25          19.5\n",
       "...                  ...           ...\n",
       "(42.390, -71.005)   5.00          20.0\n",
       "(42.391, -71.012)   2.50           7.0\n",
       "(42.391, -71.013)   3.50          11.0\n",
       "(42.393, -71.010)   1.50          50.0\n",
       "(42.394, -71.010)   5.00           7.0\n",
       "\n",
       "[1331 rows x 2 columns]"
      ]
     },
     "execution_count": 31,
     "metadata": {},
     "output_type": "execute_result"
    }
   ],
   "source": [
    "group_by_location = merging_crimecount_and_yelp.groupby('Location').mean()\n",
    "group_by_location[['stars', 'review_count']]"
   ]
  },
  {
   "cell_type": "markdown",
   "id": "2a8a1928",
   "metadata": {},
   "source": [
    "### <font color=\"blue\"> What restaurants are in areas with the highest amounts of crime?"
   ]
  },
  {
   "cell_type": "code",
   "execution_count": 32,
   "id": "f841c169",
   "metadata": {},
   "outputs": [
    {
     "data": {
      "text/html": [
       "<div>\n",
       "<style scoped>\n",
       "    .dataframe tbody tr th:only-of-type {\n",
       "        vertical-align: middle;\n",
       "    }\n",
       "\n",
       "    .dataframe tbody tr th {\n",
       "        vertical-align: top;\n",
       "    }\n",
       "\n",
       "    .dataframe thead th {\n",
       "        text-align: right;\n",
       "    }\n",
       "</style>\n",
       "<table border=\"1\" class=\"dataframe\">\n",
       "  <thead>\n",
       "    <tr style=\"text-align: right;\">\n",
       "      <th></th>\n",
       "      <th>name</th>\n",
       "      <th>address</th>\n",
       "      <th>city</th>\n",
       "      <th>state</th>\n",
       "      <th>latitude</th>\n",
       "      <th>longitude</th>\n",
       "      <th>stars</th>\n",
       "      <th>review_count</th>\n",
       "      <th>categories</th>\n",
       "      <th>Location</th>\n",
       "      <th>Crimes in Business Area</th>\n",
       "    </tr>\n",
       "  </thead>\n",
       "  <tbody>\n",
       "    <tr>\n",
       "      <th>7895</th>\n",
       "      <td>Boston Police Department</td>\n",
       "      <td>650 Harrison Ave</td>\n",
       "      <td>Boston</td>\n",
       "      <td>MA</td>\n",
       "      <td>42.339</td>\n",
       "      <td>-71.069</td>\n",
       "      <td>2.0</td>\n",
       "      <td>20.0</td>\n",
       "      <td>Public Services &amp; Government</td>\n",
       "      <td>(42.339, -71.069)</td>\n",
       "      <td>2283.0</td>\n",
       "    </tr>\n",
       "    <tr>\n",
       "      <th>5680</th>\n",
       "      <td>Kabloom</td>\n",
       "      <td>27 School St</td>\n",
       "      <td>Boston</td>\n",
       "      <td>MA</td>\n",
       "      <td>42.361</td>\n",
       "      <td>-71.059</td>\n",
       "      <td>2.0</td>\n",
       "      <td>6.0</td>\n",
       "      <td>Florists, Flowers &amp; Gifts, Shopping</td>\n",
       "      <td>(42.361, -71.059)</td>\n",
       "      <td>1671.0</td>\n",
       "    </tr>\n",
       "    <tr>\n",
       "      <th>7179</th>\n",
       "      <td>Michael's Sports Massage</td>\n",
       "      <td>17 Henshaw St, Ste 2B</td>\n",
       "      <td>Boston</td>\n",
       "      <td>MA</td>\n",
       "      <td>42.349</td>\n",
       "      <td>-71.150</td>\n",
       "      <td>4.5</td>\n",
       "      <td>16.0</td>\n",
       "      <td>Massage Therapy, Sports Medicine, Massage, Doc...</td>\n",
       "      <td>(42.349, -71.150)</td>\n",
       "      <td>1368.0</td>\n",
       "    </tr>\n",
       "    <tr>\n",
       "      <th>6488</th>\n",
       "      <td>Salon 120 West</td>\n",
       "      <td>120 W Broadway</td>\n",
       "      <td>Boston</td>\n",
       "      <td>MA</td>\n",
       "      <td>42.341</td>\n",
       "      <td>-71.054</td>\n",
       "      <td>4.5</td>\n",
       "      <td>7.0</td>\n",
       "      <td>Hair Salons, Beauty &amp; Spas</td>\n",
       "      <td>(42.341, -71.054)</td>\n",
       "      <td>1232.0</td>\n",
       "    </tr>\n",
       "    <tr>\n",
       "      <th>6487</th>\n",
       "      <td>Simply Barre</td>\n",
       "      <td>118 W Broadway S</td>\n",
       "      <td>Boston</td>\n",
       "      <td>MA</td>\n",
       "      <td>42.341</td>\n",
       "      <td>-71.054</td>\n",
       "      <td>4.5</td>\n",
       "      <td>21.0</td>\n",
       "      <td>Fitness &amp; Instruction, Barre Classes, Active Life</td>\n",
       "      <td>(42.341, -71.054)</td>\n",
       "      <td>1232.0</td>\n",
       "    </tr>\n",
       "  </tbody>\n",
       "</table>\n",
       "</div>"
      ],
      "text/plain": [
       "                          name                address    city state latitude  \\\n",
       "7895  Boston Police Department       650 Harrison Ave  Boston    MA   42.339   \n",
       "5680                   Kabloom           27 School St  Boston    MA   42.361   \n",
       "7179  Michael's Sports Massage  17 Henshaw St, Ste 2B  Boston    MA   42.349   \n",
       "6488            Salon 120 West         120 W Broadway  Boston    MA   42.341   \n",
       "6487              Simply Barre       118 W Broadway S  Boston    MA   42.341   \n",
       "\n",
       "     longitude  stars  review_count  \\\n",
       "7895   -71.069    2.0          20.0   \n",
       "5680   -71.059    2.0           6.0   \n",
       "7179   -71.150    4.5          16.0   \n",
       "6488   -71.054    4.5           7.0   \n",
       "6487   -71.054    4.5          21.0   \n",
       "\n",
       "                                             categories           Location  \\\n",
       "7895                       Public Services & Government  (42.339, -71.069)   \n",
       "5680                Florists, Flowers & Gifts, Shopping  (42.361, -71.059)   \n",
       "7179  Massage Therapy, Sports Medicine, Massage, Doc...  (42.349, -71.150)   \n",
       "6488                         Hair Salons, Beauty & Spas  (42.341, -71.054)   \n",
       "6487  Fitness & Instruction, Barre Classes, Active Life  (42.341, -71.054)   \n",
       "\n",
       "      Crimes in Business Area  \n",
       "7895                   2283.0  \n",
       "5680                   1671.0  \n",
       "7179                   1368.0  \n",
       "6488                   1232.0  \n",
       "6487                   1232.0  "
      ]
     },
     "execution_count": 32,
     "metadata": {},
     "output_type": "execute_result"
    }
   ],
   "source": [
    "merging_crimecount_and_yelp.sort_values('Crimes in Business Area', ascending=False).head()"
   ]
  },
  {
   "cell_type": "markdown",
   "id": "1629fab6",
   "metadata": {},
   "source": [
    "### <font color=\"blue\"> What restaurants are in areas with the lowest amounts of crime?"
   ]
  },
  {
   "cell_type": "code",
   "execution_count": 33,
   "id": "9975ebb2",
   "metadata": {},
   "outputs": [
    {
     "data": {
      "text/html": [
       "<div>\n",
       "<style scoped>\n",
       "    .dataframe tbody tr th:only-of-type {\n",
       "        vertical-align: middle;\n",
       "    }\n",
       "\n",
       "    .dataframe tbody tr th {\n",
       "        vertical-align: top;\n",
       "    }\n",
       "\n",
       "    .dataframe thead th {\n",
       "        text-align: right;\n",
       "    }\n",
       "</style>\n",
       "<table border=\"1\" class=\"dataframe\">\n",
       "  <thead>\n",
       "    <tr style=\"text-align: right;\">\n",
       "      <th></th>\n",
       "      <th>name</th>\n",
       "      <th>address</th>\n",
       "      <th>city</th>\n",
       "      <th>state</th>\n",
       "      <th>latitude</th>\n",
       "      <th>longitude</th>\n",
       "      <th>stars</th>\n",
       "      <th>review_count</th>\n",
       "      <th>categories</th>\n",
       "      <th>Location</th>\n",
       "      <th>Crimes in Business Area</th>\n",
       "    </tr>\n",
       "  </thead>\n",
       "  <tbody>\n",
       "    <tr>\n",
       "      <th>3421</th>\n",
       "      <td>Starbucks</td>\n",
       "      <td>443 Boylston St</td>\n",
       "      <td>Boston</td>\n",
       "      <td>MA</td>\n",
       "      <td>42.351</td>\n",
       "      <td>-71.072</td>\n",
       "      <td>3.0</td>\n",
       "      <td>73.0</td>\n",
       "      <td>Coffee &amp; Tea, Food, Desserts</td>\n",
       "      <td>(42.351, -71.072)</td>\n",
       "      <td>1.0</td>\n",
       "    </tr>\n",
       "    <tr>\n",
       "      <th>1912</th>\n",
       "      <td>Marc L Nevins, DMD MMSc PC</td>\n",
       "      <td>3 Center Plz, Ste 310</td>\n",
       "      <td>Boston</td>\n",
       "      <td>MA</td>\n",
       "      <td>42.360</td>\n",
       "      <td>-71.060</td>\n",
       "      <td>4.5</td>\n",
       "      <td>24.0</td>\n",
       "      <td>Cosmetic Dentists, Health &amp; Medical, Trainers,...</td>\n",
       "      <td>(42.360, -71.060)</td>\n",
       "      <td>1.0</td>\n",
       "    </tr>\n",
       "    <tr>\n",
       "      <th>7532</th>\n",
       "      <td>USS Cassin Young</td>\n",
       "      <td>Charlestown Navy Yard</td>\n",
       "      <td>Boston</td>\n",
       "      <td>MA</td>\n",
       "      <td>42.379</td>\n",
       "      <td>-71.051</td>\n",
       "      <td>4.5</td>\n",
       "      <td>27.0</td>\n",
       "      <td>Arts &amp; Entertainment, Museums</td>\n",
       "      <td>(42.379, -71.051)</td>\n",
       "      <td>1.0</td>\n",
       "    </tr>\n",
       "    <tr>\n",
       "      <th>7541</th>\n",
       "      <td>Angela's Cafe - Orient Heights</td>\n",
       "      <td>1012 Bennington St</td>\n",
       "      <td>Boston</td>\n",
       "      <td>MA</td>\n",
       "      <td>42.387</td>\n",
       "      <td>-71.006</td>\n",
       "      <td>4.0</td>\n",
       "      <td>101.0</td>\n",
       "      <td>Food, Desserts, Restaurants, Breakfast &amp; Brunc...</td>\n",
       "      <td>(42.387, -71.006)</td>\n",
       "      <td>1.0</td>\n",
       "    </tr>\n",
       "    <tr>\n",
       "      <th>1960</th>\n",
       "      <td>Tawakal Halal Cafe</td>\n",
       "      <td>389 Maverick St</td>\n",
       "      <td>Boston</td>\n",
       "      <td>MA</td>\n",
       "      <td>42.365</td>\n",
       "      <td>-71.029</td>\n",
       "      <td>5.0</td>\n",
       "      <td>97.0</td>\n",
       "      <td>African, Halal, Cafes, Somali, Restaurants</td>\n",
       "      <td>(42.365, -71.029)</td>\n",
       "      <td>1.0</td>\n",
       "    </tr>\n",
       "  </tbody>\n",
       "</table>\n",
       "</div>"
      ],
      "text/plain": [
       "                                name                address    city state  \\\n",
       "3421                       Starbucks        443 Boylston St  Boston    MA   \n",
       "1912      Marc L Nevins, DMD MMSc PC  3 Center Plz, Ste 310  Boston    MA   \n",
       "7532                USS Cassin Young  Charlestown Navy Yard  Boston    MA   \n",
       "7541  Angela's Cafe - Orient Heights     1012 Bennington St  Boston    MA   \n",
       "1960              Tawakal Halal Cafe        389 Maverick St  Boston    MA   \n",
       "\n",
       "     latitude longitude  stars  review_count  \\\n",
       "3421   42.351   -71.072    3.0          73.0   \n",
       "1912   42.360   -71.060    4.5          24.0   \n",
       "7532   42.379   -71.051    4.5          27.0   \n",
       "7541   42.387   -71.006    4.0         101.0   \n",
       "1960   42.365   -71.029    5.0          97.0   \n",
       "\n",
       "                                             categories           Location  \\\n",
       "3421                       Coffee & Tea, Food, Desserts  (42.351, -71.072)   \n",
       "1912  Cosmetic Dentists, Health & Medical, Trainers,...  (42.360, -71.060)   \n",
       "7532                      Arts & Entertainment, Museums  (42.379, -71.051)   \n",
       "7541  Food, Desserts, Restaurants, Breakfast & Brunc...  (42.387, -71.006)   \n",
       "1960         African, Halal, Cafes, Somali, Restaurants  (42.365, -71.029)   \n",
       "\n",
       "      Crimes in Business Area  \n",
       "3421                      1.0  \n",
       "1912                      1.0  \n",
       "7532                      1.0  \n",
       "7541                      1.0  \n",
       "1960                      1.0  "
      ]
     },
     "execution_count": 33,
     "metadata": {},
     "output_type": "execute_result"
    }
   ],
   "source": [
    "merging_crimecount_and_yelp.sort_values('Crimes in Business Area', ascending=True).head()"
   ]
  },
  {
   "cell_type": "markdown",
   "id": "32fb1a69",
   "metadata": {},
   "source": [
    "## Data Reporting"
   ]
  },
  {
   "cell_type": "markdown",
   "id": "ea81b372",
   "metadata": {},
   "source": [
    "<font color=\"blue\"> *For busineses in areas with highest amounts of crime"
   ]
  },
  {
   "cell_type": "code",
   "execution_count": 52,
   "id": "304ac71f",
   "metadata": {},
   "outputs": [
    {
     "data": {
      "image/png": "[encoded data removed]",
      "text/plain": [
       "<Figure size 432x288 with 1 Axes>"
      ]
     },
     "metadata": {
      "needs_background": "light"
     },
     "output_type": "display_data"
    }
   ],
   "source": [
    "fig = plt.figure()\n",
    "ax = fig.add_axes([0,0,1,1])\n",
    "restaurants = ['','BPD', 'Kabloom', \"Michael's Sports\", 'Simply Barre', 'Salon 120 West']\n",
    "amount_of_crime_in_area = ['0','2283', '1671', '1368', '1232', '1232']\n",
    "ax.bar(restaurants, amount_of_crime_in_area, color='lightpink')\n",
    "ax.set_title('Amount of Crime Occurred in Area of Boston Business')\n",
    "ax.set_xlabel('Business Name')\n",
    "ax.set_ylabel('Amount of Crime in Business Area')\n",
    "plt.show()"
   ]
  },
  {
   "cell_type": "code",
   "execution_count": 58,
   "id": "e4e58fa0",
   "metadata": {},
   "outputs": [
    {
     "data": {
      "image/png": "[encoded data removed]",
      "text/plain": [
       "<Figure size 432x288 with 1 Axes>"
      ]
     },
     "metadata": {
      "needs_background": "light"
     },
     "output_type": "display_data"
    }
   ],
   "source": [
    "fig = plt.figure()\n",
    "ax = fig.add_axes([0,0,1,1])\n",
    "restaurants = ['','BPD', 'Kabloom', \"Michael's Sports\", 'Simply Barre', 'Salon 120 West']\n",
    "star_rating = ['0','2.0', '2.0', '4.5', '4.5', '4.5']\n",
    "ax.bar(restaurants, star_rating, color='red')\n",
    "ax.set_title('Average Business Ratings on 5 Star Scale')\n",
    "ax.set_xlabel('Business Name')\n",
    "ax.set_ylabel('Avg Star Rating of Business')\n",
    "plt.show()"
   ]
  },
  {
   "cell_type": "markdown",
   "id": "07cc3e46",
   "metadata": {},
   "source": [
    "<font color=\"blue\"> *For resturants in areas with lowest amounts of crime"
   ]
  },
  {
   "cell_type": "code",
   "execution_count": 55,
   "id": "244b2d3c",
   "metadata": {},
   "outputs": [
    {
     "data": {
      "image/png": "[encoded data removed]",
      "text/plain": [
       "<Figure size 432x288 with 1 Axes>"
      ]
     },
     "metadata": {
      "needs_background": "light"
     },
     "output_type": "display_data"
    }
   ],
   "source": [
    "fig = plt.figure()\n",
    "ax = fig.add_axes([0,0,1,1])\n",
    "restaurants = ['','Starbucks', 'Marc Nevins', \"USS Cassin\", \"Angela's Cafe\", 'Tawakal Halal']\n",
    "amount_of_crime_in_area = ['0','2283', '1671', '1368', '1232', '1232']\n",
    "ax.bar(restaurants, amount_of_crime_in_area, color='lightblue')\n",
    "ax.set_title('Amount of Crime Occurred in Area of Boston Business')\n",
    "ax.set_xlabel('Business Name')\n",
    "ax.set_ylabel('Amount of Crime in Business Area')\n",
    "plt.show()"
   ]
  },
  {
   "cell_type": "code",
   "execution_count": 59,
   "id": "6dc548e9",
   "metadata": {},
   "outputs": [
    {
     "data": {
      "image/png": "[encoded data removed]",
      "text/plain": [
       "<Figure size 432x288 with 1 Axes>"
      ]
     },
     "metadata": {
      "needs_background": "light"
     },
     "output_type": "display_data"
    }
   ],
   "source": [
    "fig = plt.figure()\n",
    "ax = fig.add_axes([0,0,1,1])\n",
    "restaurants = ['','Starbucks', 'Marc Nevins', \"USS Cassin\", \"Angela's Cafe\", 'Tawakal Halal']\n",
    "star_rating = ['0','3.0', '4.5', '4.5', '4.0', '5.0']\n",
    "ax.bar(restaurants, star_rating, color='blue')\n",
    "ax.set_title('Average Business Ratings on 5 Star Scale')\n",
    "ax.set_xlabel('Business Name')\n",
    "ax.set_ylabel('Avg Star Rating of Business')\n",
    "plt.show()"
   ]
  },
  {
   "cell_type": "markdown",
   "id": "cd35d25c",
   "metadata": {},
   "source": [
    "## Time and Space Reporting"
   ]
  },
  {
   "cell_type": "markdown",
   "id": "310faac8",
   "metadata": {},
   "source": [
    "Requirements for this section:\n",
    "\n",
    "\n",
    "    - List file size in bytes\n",
    "    \n",
    "    -Detail the most computationally expensive part of the project \n",
    "    \n",
    "    -List all required dataserts and their siz in a meaningful format \n",
    "    \n",
    "    -detail the most computationally expensive operation clearly\n",
    "    \n",
    "    -to recieve top marks all efforts to speed up the most computationl expensive operaton must be detailed"
   ]
  },
  {
   "cell_type": "markdown",
   "id": "d89b717f",
   "metadata": {},
   "source": [
    "## Next Steps"
   ]
  },
  {
   "cell_type": "code",
   "execution_count": null,
   "id": "0578c1d4",
   "metadata": {},
   "outputs": [],
   "source": []
  }
 ],
 "metadata": {
  "kernelspec": {
   "display_name": "Python 3",
   "language": "python",
   "name": "python3"
  },
  "language_info": {
   "codemirror_mode": {
    "name": "ipython",
    "version": 3
   },
   "file_extension": ".py",
   "mimetype": "text/x-python",
   "name": "python",
   "nbconvert_exporter": "python",
   "pygments_lexer": "ipython3",
   "version": "3.6.13"
  }
 },
 "nbformat": 4,
 "nbformat_minor": 5
}
