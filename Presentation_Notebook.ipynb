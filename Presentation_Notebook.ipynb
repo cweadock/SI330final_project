{
 "cells": [
  {
   "cell_type": "markdown",
   "id": "bdcc6d71",
   "metadata": {},
   "source": [
    "Amanda Rudolph\n",
    "\n",
    "Claire Weadock"
   ]
  },
  {
   "cell_type": "markdown",
   "id": "ec559343",
   "metadata": {},
   "source": [
    "## Initial Steps"
   ]
  },
  {
   "cell_type": "markdown",
   "id": "2fd654e5",
   "metadata": {},
   "source": [
    "Originally, we chose to use Twitter data and Yelp data to analyze the reviews of the top 10 most reviewed restaurants. We planned to search Twitter to analyze the sentiment, as well as collect the number of tweets about that particular restuant. Based on the sentiment of the twitter reviews, we would compae the rating to the average Yelp score (star rating) and analyze whether Twitter is a good predictor of the rating of a restaruant. \n",
    "\n",
    "Gathering the Twitter data consisted of searching for tweets that contained the search terms of the top 10 most reviewed restraunts in Madison, WI. However, after reviewing this collected data the tweets did not correspond with restaurant reviews like we had hope.\n",
    "\n",
    "Although we had this setback, we chose to keep using the Yelp dataset (since we still wanted to focus on reviews) and thought it would be interesting to focus on the factors that influence high, low, and neutral revews. So, we left the Twitter dataset behind and brought in a Crime DataSet. "
   ]
  },
  {
   "cell_type": "markdown",
   "id": "abac92d4",
   "metadata": {},
   "source": [
    "## Does the safety of an area a restaurant is in have any relation to that restaurants review?"
   ]
  },
  {
   "cell_type": "markdown",
   "id": "06b15c04",
   "metadata": {},
   "source": [
    "**Do restaurants in \"safer\" areas have higher reviews?**"
   ]
  },
  {
   "cell_type": "markdown",
   "id": "67f2c5aa",
   "metadata": {},
   "source": [
    "-To narrow our scope, we chose to focus on restuarants and crime rates in Boston."
   ]
  },
  {
   "cell_type": "markdown",
   "id": "8e94bd26",
   "metadata": {},
   "source": [
    "## Boston Crime DataSet (CSV)"
   ]
  },
  {
   "cell_type": "markdown",
   "id": "74d679f7",
   "metadata": {},
   "source": [
    "This Boston Crime Dataset comes from the 2020 Crime Incident Reports. The dataset contains records which include a reduced set of fields focused on capturing the type of incident as well as when and where it ocurred. "
   ]
  },
  {
   "cell_type": "markdown",
   "id": "a898946d",
   "metadata": {},
   "source": [
    "## Yelp Business DataSet (JSON)"
   ]
  },
  {
   "cell_type": "code",
   "execution_count": null,
   "id": "96d6465b",
   "metadata": {},
   "outputs": [],
   "source": []
  },
  {
   "cell_type": "markdown",
   "id": "98f9f5e7",
   "metadata": {},
   "source": [
    "## **Data Cleaning**"
   ]
  },
  {
   "cell_type": "markdown",
   "id": "55ebc690",
   "metadata": {},
   "source": [
    "- Read in Yelp Business JSON, filter by business data only in Boston, MA, and eliminate columns we don't need."
   ]
  },
  {
   "cell_type": "markdown",
   "id": "74310cbb",
   "metadata": {},
   "source": [
    "- Eliminate many columns from the Boston Crime DataSet"
   ]
  },
  {
   "cell_type": "markdown",
   "id": "03aa0550",
   "metadata": {},
   "source": [
    "- Although we cleaned the Yelp dataset to contain specifically business in Boston and chose the corresponsing Boston Crime DataSet, we still wanted to specific areas within Boston and "
   ]
  },
  {
   "cell_type": "code",
   "execution_count": null,
   "id": "b7da6cc3",
   "metadata": {},
   "outputs": [],
   "source": []
  }
 ],
 "metadata": {
  "kernelspec": {
   "display_name": "Python 3",
   "language": "python",
   "name": "python3"
  },
  "language_info": {
   "codemirror_mode": {
    "name": "ipython",
    "version": 3
   },
   "file_extension": ".py",
   "mimetype": "text/x-python",
   "name": "python",
   "nbconvert_exporter": "python",
   "pygments_lexer": "ipython3",
   "version": "3.6.13"
  }
 },
 "nbformat": 4,
 "nbformat_minor": 5
}
